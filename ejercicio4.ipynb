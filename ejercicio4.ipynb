{
 "cells": [
  {
   "cell_type": "code",
   "execution_count": null,
   "metadata": {},
   "outputs": [],
   "source": [
    "\n",
    "word = input(\"Ingresá una palabra: \")\n",
    "if \"a\" in word:\n",
    "    if \"n\" in word:\n",
    "        print(\"Contiene la letra a y la letra n.\")\n",
    "    else:\n",
    "        print(\"No contiene las dos letras.\")    \n",
    "else:\n",
    "    print(\"No contiene las dos letras.\")"
   ]
  }
 ],
 "metadata": {
  "kernelspec": {
   "display_name": "venv",
   "language": "python",
   "name": "python3"
  },
  "language_info": {
   "codemirror_mode": {
    "name": "ipython",
    "version": 3
   },
   "file_extension": ".py",
   "mimetype": "text/x-python",
   "name": "python",
   "nbconvert_exporter": "python",
   "pygments_lexer": "ipython3",
   "version": "3.11.7"
  }
 },
 "nbformat": 4,
 "nbformat_minor": 2
}
