{
 "cells": [
  {
   "cell_type": "code",
   "execution_count": 8,
   "metadata": {},
   "outputs": [
    {
     "name": "stdout",
     "output_type": "stream",
     "text": [
      "a\n",
      "s\n",
      "d\n",
      "La frase o la palaabra ingresada es heterograma\n"
     ]
    }
   ],
   "source": [
    "import heterograma as h\n",
    "\n",
    "text=input(\"Ingrese una frase o una palabra: \")\n",
    "\n",
    "if h.es_heterograma(text):\n",
    "    print(\"La frase o la palaabra ingresada es heterograma\")\n",
    "else:\n",
    "    print(\"La frase o palabra ingresada no es heterograma\")"
   ]
  }
 ],
 "metadata": {
  "kernelspec": {
   "display_name": "venv",
   "language": "python",
   "name": "python3"
  },
  "language_info": {
   "codemirror_mode": {
    "name": "ipython",
    "version": 3
   },
   "file_extension": ".py",
   "mimetype": "text/x-python",
   "name": "python",
   "nbconvert_exporter": "python",
   "pygments_lexer": "ipython3",
   "version": "3.11.7"
  }
 },
 "nbformat": 4,
 "nbformat_minor": 2
}
