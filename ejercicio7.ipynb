{
 "cells": [
  {
   "cell_type": "code",
   "execution_count": 50,
   "metadata": {},
   "outputs": [
    {
     "name": "stdout",
     "output_type": "stream",
     "text": [
      "['La', 'brecha', 'salarial', 'alcanzó', 'el', '27,7%:', 'las', 'mujeres', 'ocupadas', 'debieron', 'trabajar', '8', 'días', 'y', '10', 'horas', 'más', 'que', 'los', 'varones', 'ocupados', 'para', 'ganar', 'lo', 'mismo', 'que', 'ellos', 'en', 'un', 'mes.']\n",
      "1\n",
      "123\n",
      "10\n"
     ]
    }
   ],
   "source": [
    "import string\n",
    "\n",
    "text = \"\"\" La brecha salarial alcanzó el 27,7%: las mujeres ocupadas\n",
    "debieron trabajar 8 días y 10 horas más que los varones ocupados para\n",
    "ganar lo mismo que ellos en un mes. \"\"\"\n",
    "\n",
    "text= text.split()\n",
    "print(text)\n",
    "mayus=0\n",
    "minus=0\n",
    "char_not_letter = 0\n",
    "chars = string.ascii_letters\n",
    "for word in text:\n",
    "    for char in word:\n",
    "        if char.isupper():\n",
    "            mayus+= 1\n",
    "        elif char.islower():\n",
    "            minus+=1\n",
    "        elif not char in chars:\n",
    "            char_not_letter+= 1\n",
    "      \n",
    "print(mayus)\n",
    "print(minus) \n",
    "print(char_not_letter)           "
   ]
  }
 ],
 "metadata": {
  "kernelspec": {
   "display_name": "venv",
   "language": "python",
   "name": "python3"
  },
  "language_info": {
   "codemirror_mode": {
    "name": "ipython",
    "version": 3
   },
   "file_extension": ".py",
   "mimetype": "text/x-python",
   "name": "python",
   "nbconvert_exporter": "python",
   "pygments_lexer": "ipython3",
   "version": "3.11.7"
  }
 },
 "nbformat": 4,
 "nbformat_minor": 2
}
