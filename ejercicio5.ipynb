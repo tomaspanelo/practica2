{
 "cells": [
  {
   "cell_type": "code",
   "execution_count": 133,
   "metadata": {},
   "outputs": [],
   "source": [
    "article = \"\"\"título:Experiences in Developing a Distributed Agent-\n",
    "based Modeling Toolkit with Python Version 3\n",
    "resumen:Distributed agent-based modeling (ABM) on high-performance\n",
    "computing resources provides the promise of capturing unprecedented\n",
    "details of large-scale complex systems.However, the specialized\n",
    "knowledge required for developing such ABMs creates barriers to wider\n",
    "adoption and utilization.Here we present our experiences in\n",
    "developing an initial implementation of Repast4Py, a Python-based\n",
    "distributed ABM toolkit.We build on our experiences in developing ABM\n",
    "toolkits, including Repast for High Performance Computing (Repast\n",
    "HPC), to identify the key elements of a useful distributed ABM\n",
    "toolkit.We leverage the Numba, NumPy, and PyTorch packages and the\n",
    "Python C-API to create a scalable modeling system that can exploit the\n",
    "largest HPC resources and emerging computing architectures.\"\"\""
   ]
  },
  {
   "cell_type": "code",
   "execution_count": 134,
   "metadata": {},
   "outputs": [
    {
     "name": "stdout",
     "output_type": "stream",
     "text": [
      "Experiences in Developing a Distributed Agent-\n",
      "based Modeling Toolkit with Python Version 3\n",
      "resumenDistributed agent-based modeling (ABM) on high-performance\n",
      "computing resources provides the promise of capturing unprecedented\n",
      "details of large-scale complex systems.However the specialized\n",
      "knowledge required for developing such ABMs creates barriers to wider\n",
      "adoption and utilization.Here we present our experiences in\n",
      "developing an initial implementation of Repast4Py a Python-based\n",
      "distributed ABM toolkit.We build on our experiences in developing ABM\n",
      "toolkits including Repast for High Performance Computing (Repast\n",
      "HPC) to identify the key elements of a useful distributed ABM\n",
      "toolkit.We leverage the Numba NumPy and PyTorch packages and the\n",
      "Python C-API to create a scalable modeling system that can exploit the\n",
      "largest HPC resources and emerging computing architectures.\n"
     ]
    }
   ],
   "source": [
    "characters= (\"título\",\",\",\":\",\"/\",\";\")\n",
    "for character in characters:\n",
    "    article= article.replace(character,\"\")\n",
    "print(article)"
   ]
  },
  {
   "cell_type": "code",
   "execution_count": 135,
   "metadata": {},
   "outputs": [
    {
     "name": "stdout",
     "output_type": "stream",
     "text": [
      "['Experiences in Developing a Distributed Agent- based Modeling Toolkit with Python Version 3 ', 'Distributed agent-based modeling (ABM) on high-performance computing resources provides the promise of capturing unprecedented details of large-scale complex systems.However the specialized knowledge required for developing such ABMs creates barriers to wider adoption and utilization.Here we present our experiences in developing an initial implementation of Repast4Py a Python-based distributed ABM toolkit.We build on our experiences in developing ABM toolkits including Repast for High Performance Computing (Repast HPC) to identify the key elements of a useful distributed ABM toolkit.We leverage the Numba NumPy and PyTorch packages and the Python C-API to create a scalable modeling system that can exploit the largest HPC resources and emerging computing architectures.']\n"
     ]
    }
   ],
   "source": [
    "article = article.replace(\"\\n\",\" \")\n",
    "article = article.split(\"resumen\")\n",
    "print(article)"
   ]
  },
  {
   "cell_type": "code",
   "execution_count": 136,
   "metadata": {},
   "outputs": [
    {
     "name": "stdout",
     "output_type": "stream",
     "text": [
      "Experiences in Developing a Distributed Agent- based Modeling Toolkit with Python Version 3 \n",
      "Distributed agent-based modeling (ABM) on high-performance computing resources provides the promise of capturing unprecedented details of large-scale complex systems.However the specialized knowledge required for developing such ABMs creates barriers to wider adoption and utilization.Here we present our experiences in developing an initial implementation of Repast4Py a Python-based distributed ABM toolkit.We build on our experiences in developing ABM toolkits including Repast for High Performance Computing (Repast HPC) to identify the key elements of a useful distributed ABM toolkit.We leverage the Numba NumPy and PyTorch packages and the Python C-API to create a scalable modeling system that can exploit the largest HPC resources and emerging computing architectures.\n"
     ]
    }
   ],
   "source": [
    "words_title= article[0]\n",
    "print(words_title)\n",
    "words_resume= article[1]\n",
    "print(words_resume)"
   ]
  },
  {
   "cell_type": "code",
   "execution_count": 137,
   "metadata": {},
   "outputs": [
    {
     "name": "stdout",
     "output_type": "stream",
     "text": [
      "Titulo muy largo\n"
     ]
    }
   ],
   "source": [
    "count =0\n",
    "words_title = words_title.split(\" \")\n",
    "for elem in words_title:\n",
    "    if not elem.isdigit():\n",
    "        count += 1\n",
    "if count > 10:\n",
    "    print(\"Titulo muy largo\")\n",
    "else:\n",
    "    print(\"Titulo aceptable\")"
   ]
  },
  {
   "cell_type": "code",
   "execution_count": 138,
   "metadata": {},
   "outputs": [],
   "source": [
    "words_resume = words_resume.split(\".\")"
   ]
  },
  {
   "cell_type": "code",
   "execution_count": 139,
   "metadata": {},
   "outputs": [
    {
     "name": "stdout",
     "output_type": "stream",
     "text": [
      "Cantidad de oraciones faciles de leer: 1, aceptables 2,dificiles: 1, muy dificiles: 2 \n"
     ]
    }
   ],
   "source": [
    "count =0\n",
    "cant_oraciones_faciles =0\n",
    "cant_oraciones_aceptables =0\n",
    "cant_oraciones_dificiles =0\n",
    "cant_oraciones_muy_dificiles = 0\n",
    "for elem in words_resume:\n",
    "    count=0\n",
    "    elem =elem.split(\" \")\n",
    "    for word_resume in elem:\n",
    "        if not word_resume.isdigit():\n",
    "            count+= 1\n",
    "    if count <= 12:\n",
    "        cant_oraciones_faciles +=1  \n",
    "    elif 12 <= count <= 17:\n",
    "        cant_oraciones_aceptables +=1\n",
    "    elif 18 <= count <= 25:\n",
    "        cant_oraciones_dificiles +=1\n",
    "    elif count > 25:\n",
    "        cant_oraciones_muy_dificiles +=1\n",
    "\n",
    "print(f\"Cantidad de oraciones faciles de leer: {cant_oraciones_faciles}, aceptables {cant_oraciones_aceptables},dificiles: {cant_oraciones_dificiles}, muy dificiles: {cant_oraciones_muy_dificiles} \")"
   ]
  }
 ],
 "metadata": {
  "kernelspec": {
   "display_name": "venv",
   "language": "python",
   "name": "python3"
  },
  "language_info": {
   "codemirror_mode": {
    "name": "ipython",
    "version": 3
   },
   "file_extension": ".py",
   "mimetype": "text/x-python",
   "name": "python",
   "nbconvert_exporter": "python",
   "pygments_lexer": "ipython3",
   "version": "3.11.7"
  }
 },
 "nbformat": 4,
 "nbformat_minor": 2
}
