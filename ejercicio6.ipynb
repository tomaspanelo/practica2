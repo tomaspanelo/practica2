{
 "cells": [
  {
   "cell_type": "markdown",
   "metadata": {},
   "source": [
    "Ingreso una frase y una palbra\n"
   ]
  },
  {
   "cell_type": "code",
   "execution_count": 8,
   "metadata": {},
   "outputs": [
    {
     "name": "stdout",
     "output_type": "stream",
     "text": [
      "tres tristes tigres, tragaban trigo en un trigal, en tres tristes trastos, tragaban trigo tres tristes tigres\n",
      "tigres\n"
     ]
    }
   ],
   "source": [
    "phrase= input(\"Ingrese una frase: \")\n",
    "phrase= phrase.lower()\n",
    "print(phrase)\n",
    "word=input(\"Ingrese una palabra: \")\n",
    "word=word.lower()\n",
    "print(word)"
   ]
  },
  {
   "cell_type": "markdown",
   "metadata": {},
   "source": [
    "convierto la frase en una lista de palabras"
   ]
  },
  {
   "cell_type": "code",
   "execution_count": 9,
   "metadata": {},
   "outputs": [
    {
     "name": "stdout",
     "output_type": "stream",
     "text": [
      "['tres', 'tristes', 'tigres,', 'tragaban', 'trigo', 'en', 'un', 'trigal,', 'en', 'tres', 'tristes', 'trastos,', 'tragaban', 'trigo', 'tres', 'tristes', 'tigres']\n"
     ]
    }
   ],
   "source": [
    "phrase=phrase.split(\" \")\n",
    "print(phrase)"
   ]
  },
  {
   "cell_type": "code",
   "execution_count": 20,
   "metadata": {},
   "outputs": [
    {
     "name": "stdout",
     "output_type": "stream",
     "text": [
      "La cantidad de veces ques esta la palbra en la frase es: 2\n"
     ]
    }
   ],
   "source": [
    "count = 0\n",
    "for palabra in phrase:\n",
    "    if word in palabra:\n",
    "        count += 1\n",
    "print(f\"La cantidad de veces ques esta la palbra en la frase es: {count}\")\n"
   ]
  },
  {
   "cell_type": "code",
   "execution_count": 18,
   "metadata": {},
   "outputs": [
    {
     "name": "stdout",
     "output_type": "stream",
     "text": [
      "Cantidad de veces que aparece la palbra en la frase: 2 \n"
     ]
    }
   ],
   "source": [
    "word_list= len(list(filter(lambda palabra : word in palabra,phrase))) \n",
    "print(f\"Cantidad de veces que aparece la palbra en la frase: {word_list} \")"
   ]
  }
 ],
 "metadata": {
  "kernelspec": {
   "display_name": "venv",
   "language": "python",
   "name": "python3"
  },
  "language_info": {
   "codemirror_mode": {
    "name": "ipython",
    "version": 3
   },
   "file_extension": ".py",
   "mimetype": "text/x-python",
   "name": "python",
   "nbconvert_exporter": "python",
   "pygments_lexer": "ipython3",
   "version": "3.11.7"
  }
 },
 "nbformat": 4,
 "nbformat_minor": 2
}
