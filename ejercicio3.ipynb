{
 "cells": [
  {
   "cell_type": "code",
   "execution_count": 119,
   "metadata": {},
   "outputs": [],
   "source": [
    "import string\n",
    "\n",
    "jupyter_info = \"\"\" JupyterLab is a web-based interactive development\n",
    "environment for Jupyter notebooks, code, and data. JupyterLab is\n",
    "flexible: configure and arrange the user interface to support a wide\n",
    "range of workflows in data science, scientific computing, and machine\n",
    "learning. JupyterLab is extensible and modular: write plugins that add\n",
    "new components and integrate with existing ones. \"\"\""
   ]
  },
  {
   "cell_type": "markdown",
   "metadata": {},
   "source": [
    "Copie el texto en la variable que pedian\n"
   ]
  },
  {
   "cell_type": "code",
   "execution_count": 120,
   "metadata": {},
   "outputs": [],
   "source": [
    "char= string.ascii_letters\n",
    "letter = input(\"Ingresa un a letra: \")\n",
    "if not letter in char or len(letter) != 1:\n",
    "    print(\"Error no se ha ingresado una letra\")\n"
   ]
  },
  {
   "cell_type": "code",
   "execution_count": 121,
   "metadata": {},
   "outputs": [
    {
     "name": "stdout",
     "output_type": "stream",
     "text": [
      " JupyterLab is a web-based interactive development environment for Jupyter notebooks, code, and data. JupyterLab is flexible: configure and arrange the user interface to support a wide range of workflows in data science, scientific computing, and machine learning. JupyterLab is extensible and modular: write plugins that add new components and integrate with existing ones. \n",
      "['', 'JupyterLab', 'is', 'a', 'web-based', 'interactive', 'development', 'environment', 'for', 'Jupyter', 'notebooks,', 'code,', 'and', 'data.', 'JupyterLab', 'is', 'flexible:', 'configure', 'and', 'arrange', 'the', 'user', 'interface', 'to', 'support', 'a', 'wide', 'range', 'of', 'workflows', 'in', 'data', 'science,', 'scientific', 'computing,', 'and', 'machine', 'learning.', 'JupyterLab', 'is', 'extensible', 'and', 'modular:', 'write', 'plugins', 'that', 'add', 'new', 'components', 'and', 'integrate', 'with', 'existing', 'ones.', '']\n"
     ]
    }
   ],
   "source": [
    "words= jupyter_info.replace(\"\\n\",\" \")\n",
    "print(words)\n",
    "words = words.split(\" \")\n",
    "print(words)"
   ]
  },
  {
   "cell_type": "code",
   "execution_count": 122,
   "metadata": {},
   "outputs": [
    {
     "name": "stdout",
     "output_type": "stream",
     "text": [
      "JupyterLab\n",
      "Jupyter\n",
      "JupyterLab\n",
      "configure\n",
      "user\n",
      "support\n",
      "computing,\n",
      "JupyterLab\n",
      "modular:\n",
      "plugins\n"
     ]
    }
   ],
   "source": [
    "for word in words:\n",
    "    if letter in word:\n",
    "        print (word)"
   ]
  }
 ],
 "metadata": {
  "kernelspec": {
   "display_name": "venv",
   "language": "python",
   "name": "python3"
  },
  "language_info": {
   "codemirror_mode": {
    "name": "ipython",
    "version": 3
   },
   "file_extension": ".py",
   "mimetype": "text/x-python",
   "name": "python",
   "nbconvert_exporter": "python",
   "pygments_lexer": "ipython3",
   "version": "3.11.7"
  }
 },
 "nbformat": 4,
 "nbformat_minor": 2
}
