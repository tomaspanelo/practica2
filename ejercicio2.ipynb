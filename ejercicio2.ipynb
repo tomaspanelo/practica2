{
 "cells": [
  {
   "cell_type": "markdown",
   "metadata": {},
   "source": [
    "Copio el read.me del numpy en una variable\n"
   ]
  },
  {
   "cell_type": "code",
   "execution_count": 68,
   "metadata": {},
   "outputs": [],
   "source": [
    "from collections import Counter\n",
    "\n",
    "text= \"\"\"NumPy is the fundamental package for scientific computing with Python.\n",
    "\n",
    "Website: https://www.numpy.org\n",
    "Documentation: https://numpy.org/doc\n",
    "Mailing list: https://mail.python.org/mailman/listinfo/numpy-discussion\n",
    "Source code: https://github.com/numpy/numpy\n",
    "Contributing: https://www.numpy.org/devdocs/dev/index.html\n",
    "Bug reports: https://github.com/numpy/numpy/issues\n",
    "Report a security vulnerability: https://tidelift.com/docs/security\n",
    "\n",
    "It provides:\n",
    "\n",
    "a powerful N-dimensional array object\n",
    "sophisticated (broadcasting) functions\n",
    "tools for integrating C/C++ and Fortran code\n",
    "useful linear algebra, Fourier transform, and random number capabilities\n",
    "\n",
    "Testing:\n",
    "\n",
    "NumPy requires pytest and hypothesis. Tests can then be run after installation with:\n",
    "\n",
    "python -c \"import numpy, sys; sys.exit(numpy.test() is False)\"\n",
    "\n",
    "Code of Conduct\n",
    "\n",
    "NumPy is a community-driven open source project developed by a diverse group of contributors. The NumPy leadership has made a strong commitment to creating an open, inclusive, and positive community. Please read the NumPy Code of Conduct for guidance on how to interact with others in a way that makes our community thrive.\n",
    "Call for Contributions\n",
    "\n",
    "The NumPy project welcomes your expertise and enthusiasm!\n",
    "\n",
    "Small improvements or fixes are always appreciated. If you are considering larger contributions to the source code, please contact us through the mailing list first.\n",
    "\n",
    "Writing code isn’t the only way to contribute to NumPy. You can also:\n",
    "\n",
    "review pull requests\n",
    "help us stay on top of new and old issues\n",
    "develop tutorials, presentations, and other educational materials\n",
    "maintain and improve our website\n",
    "develop graphic design for our brand assets and promotional materials\n",
    "translate website content\n",
    "help with outreach and onboard new contributors\n",
    "write grant proposals and help with other fundraising efforts\n",
    "\n",
    "For more information about the ways you can contribute to NumPy, visit our website. If you’re unsure where to start or how your skills fit in, reach out! You can ask on the mailing list or here, on GitHub, by opening a new issue or leaving a comment on a relevant issue that is already open.\n",
    "\n",
    "Our preferred channels of communication are all public, but if you’d like to speak to us in private first, contact our community coordinators at numpy-team@googlegroups.com or on Slack (write numpy-team@googlegroups.com for an invitation).\n",
    "\n",
    "We also have a biweekly community call, details of which are announced on the mailing list. You are very welcome to join.\n",
    "\n",
    "If you are new to contributing to open source, this guide helps explain why, what, and how to successfully get involved.\"\"\""
   ]
  },
  {
   "cell_type": "markdown",
   "metadata": {},
   "source": [
    "Junto todo el texto, saque caracteres especiales y separe palabra por palabra asi me fijo cual es la con mas de 4 caracteres q mas aparece\n"
   ]
  },
  {
   "cell_type": "code",
   "execution_count": 69,
   "metadata": {},
   "outputs": [
    {
     "name": "stdout",
     "output_type": "stream",
     "text": [
      "['numpy', 'is', 'the', 'fundamental', 'package', 'for', 'scientific', 'computing', 'with', 'python', '', 'website', 'httpswwwnumpyorg', 'documentation', 'httpsnumpyorgdoc', 'mailing', 'list', 'httpsmailpythonorgmailmanlistinfonumpy-discussion', 'source', 'code', 'httpsgithubcomnumpynumpy', 'contributing', 'httpswwwnumpyorgdevdocsdevindexhtml', 'bug', 'reports', 'httpsgithubcomnumpynumpyissues', 'report', 'a', 'security', 'vulnerability', 'httpstideliftcomdocssecurity', '', 'it', 'provides', '', 'a', 'powerful', 'n-dimensional', 'array', 'object', 'sophisticated', '(broadcasting)', 'functions', 'tools', 'for', 'integrating', 'cc++', 'and', 'fortran', 'code', 'useful', 'linear', 'algebra', 'fourier', 'transform', 'and', 'random', 'number', 'capabilities', '', 'testing', '', 'numpy', 'requires', 'pytest', 'and', 'hypothesis', 'tests', 'can', 'then', 'be', 'run', 'after', 'installation', 'with', '', 'python', '-c', '\"import', 'numpy', 'sys', 'sysexit(numpytest()', 'is', 'false)\"', '', 'code', 'of', 'conduct', '', 'numpy', 'is', 'a', 'community-driven', 'open', 'source', 'project', 'developed', 'by', 'a', 'diverse', 'group', 'of', 'contributors', 'the', 'numpy', 'leadership', 'has', 'made', 'a', 'strong', 'commitment', 'to', 'creating', 'an', 'open', 'inclusive', 'and', 'positive', 'community', 'please', 'read', 'the', 'numpy', 'code', 'of', 'conduct', 'for', 'guidance', 'on', 'how', 'to', 'interact', 'with', 'others', 'in', 'a', 'way', 'that', 'makes', 'our', 'community', 'thrive', 'call', 'for', 'contributions', '', 'the', 'numpy', 'project', 'welcomes', 'your', 'expertise', 'and', 'enthusiasm!', '', 'small', 'improvements', 'or', 'fixes', 'are', 'always', 'appreciated', 'if', 'you', 'are', 'considering', 'larger', 'contributions', 'to', 'the', 'source', 'code', 'please', 'contact', 'us', 'through', 'the', 'mailing', 'list', 'first', '', 'writing', 'code', 'isn’t', 'the', 'only', 'way', 'to', 'contribute', 'to', 'numpy', 'you', 'can', 'also', '', 'review', 'pull', 'requests', 'help', 'us', 'stay', 'on', 'top', 'of', 'new', 'and', 'old', 'issues', 'develop', 'tutorials', 'presentations', 'and', 'other', 'educational', 'materials', 'maintain', 'and', 'improve', 'our', 'website', 'develop', 'graphic', 'design', 'for', 'our', 'brand', 'assets', 'and', 'promotional', 'materials', 'translate', 'website', 'content', 'help', 'with', 'outreach', 'and', 'onboard', 'new', 'contributors', 'write', 'grant', 'proposals', 'and', 'help', 'with', 'other', 'fundraising', 'efforts', '', 'for', 'more', 'information', 'about', 'the', 'ways', 'you', 'can', 'contribute', 'to', 'numpy', 'visit', 'our', 'website', 'if', 'you’re', 'unsure', 'where', 'to', 'start', 'or', 'how', 'your', 'skills', 'fit', 'in', 'reach', 'out!', 'you', 'can', 'ask', 'on', 'the', 'mailing', 'list', 'or', 'here', 'on', 'github', 'by', 'opening', 'a', 'new', 'issue', 'or', 'leaving', 'a', 'comment', 'on', 'a', 'relevant', 'issue', 'that', 'is', 'already', 'open', '', 'our', 'preferred', 'channels', 'of', 'communication', 'are', 'all', 'public', 'but', 'if', 'you’d', 'like', 'to', 'speak', 'to', 'us', 'in', 'private', 'first', 'contact', 'our', 'community', 'coordinators', 'at', 'numpy-team@googlegroupscom', 'or', 'on', 'slack', '(write', 'numpy-team@googlegroupscom', 'for', 'an', 'invitation)', '', 'we', 'also', 'have', 'a', 'biweekly', 'community', 'call', 'details', 'of', 'which', 'are', 'announced', 'on', 'the', 'mailing', 'list', 'you', 'are', 'very', 'welcome', 'to', 'join', '', 'if', 'you', 'are', 'new', 'to', 'contributing', 'to', 'open', 'source', 'this', 'guide', 'helps', 'explain', 'why', 'what', 'and', 'how', 'to', 'successfully', 'get', 'involved']\n"
     ]
    }
   ],
   "source": [
    "words = text.lower()\n",
    "words = words.replace(\"\\n\",\" \")\n",
    "characters= (\".\",\",\",\":\",\"/\",\";\")\n",
    "for character in characters:\n",
    "    words= words.replace(character,\"\")\n",
    "words = words.split(\" \")\n",
    "print(words)"
   ]
  },
  {
   "cell_type": "markdown",
   "metadata": {},
   "source": [
    "voy a contar las que tenga mas de 4 caracteres que mas aparece"
   ]
  },
  {
   "cell_type": "code",
   "execution_count": 70,
   "metadata": {},
   "outputs": [
    {
     "name": "stdout",
     "output_type": "stream",
     "text": [
      "numpy 9\n",
      "Counter({'': 16, 'to': 13, 'and': 12, 'the': 10, 'a': 10, 'numpy': 9, 'for': 7, 'on': 7, 'code': 6, 'of': 6, 'our': 6, 'are': 6, 'you': 6, 'with': 5, 'or': 5, 'is': 4, 'website': 4, 'mailing': 4, 'list': 4, 'source': 4, 'can': 4, 'open': 4, 'community': 4, 'if': 4, 'new': 4, 'how': 3, 'in': 3, 'us': 3, 'help': 3, 'python': 2, 'contributing': 2, 'conduct': 2, 'project': 2, 'by': 2, 'contributors': 2, 'an': 2, 'please': 2, 'way': 2, 'that': 2, 'call': 2, 'contributions': 2, 'your': 2, 'contact': 2, 'first': 2, 'contribute': 2, 'also': 2, 'develop': 2, 'other': 2, 'materials': 2, 'issue': 2, 'numpy-team@googlegroupscom': 2, 'fundamental': 1, 'package': 1, 'scientific': 1, 'computing': 1, 'httpswwwnumpyorg': 1, 'documentation': 1, 'httpsnumpyorgdoc': 1, 'httpsmailpythonorgmailmanlistinfonumpy-discussion': 1, 'httpsgithubcomnumpynumpy': 1, 'httpswwwnumpyorgdevdocsdevindexhtml': 1, 'bug': 1, 'reports': 1, 'httpsgithubcomnumpynumpyissues': 1, 'report': 1, 'security': 1, 'vulnerability': 1, 'httpstideliftcomdocssecurity': 1, 'it': 1, 'provides': 1, 'powerful': 1, 'n-dimensional': 1, 'array': 1, 'object': 1, 'sophisticated': 1, '(broadcasting)': 1, 'functions': 1, 'tools': 1, 'integrating': 1, 'cc++': 1, 'fortran': 1, 'useful': 1, 'linear': 1, 'algebra': 1, 'fourier': 1, 'transform': 1, 'random': 1, 'number': 1, 'capabilities': 1, 'testing': 1, 'requires': 1, 'pytest': 1, 'hypothesis': 1, 'tests': 1, 'then': 1, 'be': 1, 'run': 1, 'after': 1, 'installation': 1, '-c': 1, '\"import': 1, 'sys': 1, 'sysexit(numpytest()': 1, 'false)\"': 1, 'community-driven': 1, 'developed': 1, 'diverse': 1, 'group': 1, 'leadership': 1, 'has': 1, 'made': 1, 'strong': 1, 'commitment': 1, 'creating': 1, 'inclusive': 1, 'positive': 1, 'read': 1, 'guidance': 1, 'interact': 1, 'others': 1, 'makes': 1, 'thrive': 1, 'welcomes': 1, 'expertise': 1, 'enthusiasm!': 1, 'small': 1, 'improvements': 1, 'fixes': 1, 'always': 1, 'appreciated': 1, 'considering': 1, 'larger': 1, 'through': 1, 'writing': 1, 'isn’t': 1, 'only': 1, 'review': 1, 'pull': 1, 'requests': 1, 'stay': 1, 'top': 1, 'old': 1, 'issues': 1, 'tutorials': 1, 'presentations': 1, 'educational': 1, 'maintain': 1, 'improve': 1, 'graphic': 1, 'design': 1, 'brand': 1, 'assets': 1, 'promotional': 1, 'translate': 1, 'content': 1, 'outreach': 1, 'onboard': 1, 'write': 1, 'grant': 1, 'proposals': 1, 'fundraising': 1, 'efforts': 1, 'more': 1, 'information': 1, 'about': 1, 'ways': 1, 'visit': 1, 'you’re': 1, 'unsure': 1, 'where': 1, 'start': 1, 'skills': 1, 'fit': 1, 'reach': 1, 'out!': 1, 'ask': 1, 'here': 1, 'github': 1, 'opening': 1, 'leaving': 1, 'comment': 1, 'relevant': 1, 'already': 1, 'preferred': 1, 'channels': 1, 'communication': 1, 'all': 1, 'public': 1, 'but': 1, 'you’d': 1, 'like': 1, 'speak': 1, 'private': 1, 'coordinators': 1, 'at': 1, 'slack': 1, '(write': 1, 'invitation)': 1, 'we': 1, 'have': 1, 'biweekly': 1, 'details': 1, 'which': 1, 'announced': 1, 'very': 1, 'welcome': 1, 'join': 1, 'this': 1, 'guide': 1, 'helps': 1, 'explain': 1, 'why': 1, 'what': 1, 'successfully': 1, 'get': 1, 'involved': 1})\n",
      "dict_items([('numpy', 9), ('is', 4), ('the', 10), ('fundamental', 1), ('package', 1), ('for', 7), ('scientific', 1), ('computing', 1), ('with', 5), ('python', 2), ('', 16), ('website', 4), ('httpswwwnumpyorg', 1), ('documentation', 1), ('httpsnumpyorgdoc', 1), ('mailing', 4), ('list', 4), ('httpsmailpythonorgmailmanlistinfonumpy-discussion', 1), ('source', 4), ('code', 6), ('httpsgithubcomnumpynumpy', 1), ('contributing', 2), ('httpswwwnumpyorgdevdocsdevindexhtml', 1), ('bug', 1), ('reports', 1), ('httpsgithubcomnumpynumpyissues', 1), ('report', 1), ('a', 10), ('security', 1), ('vulnerability', 1), ('httpstideliftcomdocssecurity', 1), ('it', 1), ('provides', 1), ('powerful', 1), ('n-dimensional', 1), ('array', 1), ('object', 1), ('sophisticated', 1), ('(broadcasting)', 1), ('functions', 1), ('tools', 1), ('integrating', 1), ('cc++', 1), ('and', 12), ('fortran', 1), ('useful', 1), ('linear', 1), ('algebra', 1), ('fourier', 1), ('transform', 1), ('random', 1), ('number', 1), ('capabilities', 1), ('testing', 1), ('requires', 1), ('pytest', 1), ('hypothesis', 1), ('tests', 1), ('can', 4), ('then', 1), ('be', 1), ('run', 1), ('after', 1), ('installation', 1), ('-c', 1), ('\"import', 1), ('sys', 1), ('sysexit(numpytest()', 1), ('false)\"', 1), ('of', 6), ('conduct', 2), ('community-driven', 1), ('open', 4), ('project', 2), ('developed', 1), ('by', 2), ('diverse', 1), ('group', 1), ('contributors', 2), ('leadership', 1), ('has', 1), ('made', 1), ('strong', 1), ('commitment', 1), ('to', 13), ('creating', 1), ('an', 2), ('inclusive', 1), ('positive', 1), ('community', 4), ('please', 2), ('read', 1), ('guidance', 1), ('on', 7), ('how', 3), ('interact', 1), ('others', 1), ('in', 3), ('way', 2), ('that', 2), ('makes', 1), ('our', 6), ('thrive', 1), ('call', 2), ('contributions', 2), ('welcomes', 1), ('your', 2), ('expertise', 1), ('enthusiasm!', 1), ('small', 1), ('improvements', 1), ('or', 5), ('fixes', 1), ('are', 6), ('always', 1), ('appreciated', 1), ('if', 4), ('you', 6), ('considering', 1), ('larger', 1), ('contact', 2), ('us', 3), ('through', 1), ('first', 2), ('writing', 1), ('isn’t', 1), ('only', 1), ('contribute', 2), ('also', 2), ('review', 1), ('pull', 1), ('requests', 1), ('help', 3), ('stay', 1), ('top', 1), ('new', 4), ('old', 1), ('issues', 1), ('develop', 2), ('tutorials', 1), ('presentations', 1), ('other', 2), ('educational', 1), ('materials', 2), ('maintain', 1), ('improve', 1), ('graphic', 1), ('design', 1), ('brand', 1), ('assets', 1), ('promotional', 1), ('translate', 1), ('content', 1), ('outreach', 1), ('onboard', 1), ('write', 1), ('grant', 1), ('proposals', 1), ('fundraising', 1), ('efforts', 1), ('more', 1), ('information', 1), ('about', 1), ('ways', 1), ('visit', 1), ('you’re', 1), ('unsure', 1), ('where', 1), ('start', 1), ('skills', 1), ('fit', 1), ('reach', 1), ('out!', 1), ('ask', 1), ('here', 1), ('github', 1), ('opening', 1), ('issue', 2), ('leaving', 1), ('comment', 1), ('relevant', 1), ('already', 1), ('preferred', 1), ('channels', 1), ('communication', 1), ('all', 1), ('public', 1), ('but', 1), ('you’d', 1), ('like', 1), ('speak', 1), ('private', 1), ('coordinators', 1), ('at', 1), ('numpy-team@googlegroupscom', 2), ('slack', 1), ('(write', 1), ('invitation)', 1), ('we', 1), ('have', 1), ('biweekly', 1), ('details', 1), ('which', 1), ('announced', 1), ('very', 1), ('welcome', 1), ('join', 1), ('this', 1), ('guide', 1), ('helps', 1), ('explain', 1), ('why', 1), ('what', 1), ('successfully', 1), ('get', 1), ('involved', 1)])\n",
      "La palabra con mas apariciones es : numpy con 9 apariciones\n"
     ]
    }
   ],
   "source": [
    "max_appears=0\n",
    "word_max_appearences= \"\"\n",
    "for word in words:\n",
    "    count = 0\n",
    "    if len(word) > 4:\n",
    "        for elem in words:\n",
    "            if word == elem:\n",
    "                count += 1\n",
    "    if max_appears < count:\n",
    "        max_appears = count\n",
    "        word_max_appearences = word\n",
    "\n",
    "print(word_max_appearences,max_appears)\n",
    "\n",
    "dicto=Counter(words)  \n",
    "print(dicto)\n",
    "dicto=dicto.items()\n",
    "print(dicto)\n",
    "for elem in dicto:\n",
    "    key= elem[0]\n",
    "    datos= elem[1]\n",
    "    if len(key) >= 4:\n",
    "        print(f\"La palabra con mas apariciones es : {key} con {datos} apariciones\")\n",
    "        break\n"
   ]
  }
 ],
 "metadata": {
  "kernelspec": {
   "display_name": "venv",
   "language": "python",
   "name": "python3"
  },
  "language_info": {
   "codemirror_mode": {
    "name": "ipython",
    "version": 3
   },
   "file_extension": ".py",
   "mimetype": "text/x-python",
   "name": "python",
   "nbconvert_exporter": "python",
   "pygments_lexer": "ipython3",
   "version": "3.11.7"
  }
 },
 "nbformat": 4,
 "nbformat_minor": 2
}
